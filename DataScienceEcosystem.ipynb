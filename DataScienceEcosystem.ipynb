{
 "cells": [
  {
   "cell_type": "markdown",
   "id": "3a6a6518-a58d-433f-8d00-e2e3a4b7cdf8",
   "metadata": {},
   "source": [
    "# Data Science Tools and Ecosystem"
   ]
  },
  {
   "cell_type": "markdown",
   "id": "c995d8e4-4b9e-4856-9dba-7fe9ad68206a",
   "metadata": {},
   "source": [
    " In this notebook, Data Science Tools and Ecosystem are summarized.\n"
   ]
  },
  {
   "cell_type": "markdown",
   "id": "08d7c35a-90d4-4950-9065-59e8d9f7c662",
   "metadata": {},
   "source": [
    "## Some of the popular languages that Data Scientists use are:\n"
   ]
  },
  {
   "cell_type": "markdown",
   "id": "7ea5bf2e-9260-4fc7-ba25-6468da9f34d2",
   "metadata": {},
   "source": [
    "1. Python  \n",
    "2. R\n",
    "3. C++\n",
    "   "
   ]
  },
  {
   "cell_type": "markdown",
   "id": "eafc5289-fd3e-4805-93cb-daa3d93b07e5",
   "metadata": {},
   "source": [
    "## Some of the commonly used libraries used by Data Scientists include:\n"
   ]
  },
  {
   "cell_type": "markdown",
   "id": "4f6efec7-e1c8-4734-a159-55e243e732c0",
   "metadata": {},
   "source": [
    "1. TensorFlow\n",
    "2. NumPy\n",
    "3. Keras\n"
   ]
  },
  {
   "cell_type": "markdown",
   "id": "ff516e96-6799-4610-b120-ddcf1826404d",
   "metadata": {},
   "source": [
    "## Data Science Tools\n",
    "| Data Science Tools |\n",
    "|:-----:|\n",
    "| Apache Spark |\n",
    "| RStudio |\n",
    "| TensorFlow |\n"
   ]
  },
  {
   "cell_type": "markdown",
   "id": "5131324f-63b1-4519-8dcc-9ff8b3c43080",
   "metadata": {},
   "source": [
    "## Below are a few examples of evaluating arithmetic expressions in Python.\n"
   ]
  },
  {
   "cell_type": "code",
   "execution_count": 4,
   "id": "db9e50da-b11f-4f62-9d79-2a1d819ae5b5",
   "metadata": {},
   "outputs": [
    {
     "name": "stdout",
     "output_type": "stream",
     "text": [
      "4\n"
     ]
    }
   ],
   "source": [
    "print(1+3)"
   ]
  },
  {
   "cell_type": "code",
   "execution_count": 5,
   "id": "ba2e04bc-6ed7-4e8b-b1b3-412d93aa2d75",
   "metadata": {},
   "outputs": [
    {
     "name": "stdout",
     "output_type": "stream",
     "text": [
      "20\n"
     ]
    }
   ],
   "source": [
    "print(5*4)"
   ]
  },
  {
   "cell_type": "code",
   "execution_count": 6,
   "id": "6d2236a2-53cd-4fe6-a43d-ba48aed4d0cd",
   "metadata": {},
   "outputs": [
    {
     "name": "stdout",
     "output_type": "stream",
     "text": [
      "0\n"
     ]
    }
   ],
   "source": [
    "print(10%2)"
   ]
  },
  {
   "cell_type": "code",
   "execution_count": 8,
   "id": "97dc0534-81a6-415c-8667-100232a3d4b1",
   "metadata": {},
   "outputs": [
    {
     "name": "stdout",
     "output_type": "stream",
     "text": [
      "17\n"
     ]
    }
   ],
   "source": [
    "#This a simple arithmetic expression to mutiply then add integers\n",
    "print((3*4)+5)"
   ]
  },
  {
   "cell_type": "code",
   "execution_count": 9,
   "id": "e1ae9ff9-1dce-48ce-a7ac-402c7c3a3fda",
   "metadata": {},
   "outputs": [
    {
     "name": "stdout",
     "output_type": "stream",
     "text": [
      "3.3333333333333335\n"
     ]
    }
   ],
   "source": [
    "#This will convert 200 minutes to hours by diving by 60\n",
    "print(200/60)"
   ]
  },
  {
   "cell_type": "markdown",
   "id": "5786ce99-135f-48c7-870b-58786e146671",
   "metadata": {
    "editable": true,
    "slideshow": {
     "slide_type": ""
    },
    "tags": []
   },
   "source": [
    "## Objectives\n",
    "* Python\n",
    "* SQL\n",
    "* Julia"
   ]
  },
  {
   "cell_type": "markdown",
   "id": "64518c68-4deb-4df3-b5ea-e9f39167e9e4",
   "metadata": {},
   "source": [
    "## Author\n",
    "Walaa Zahran"
   ]
  },
  {
   "cell_type": "code",
   "execution_count": null,
   "id": "2197774f-0991-44e8-ac2f-f4e25c8072ef",
   "metadata": {},
   "outputs": [],
   "source": []
  }
 ],
 "metadata": {
  "kernelspec": {
   "display_name": "Python 3 (ipykernel)",
   "language": "python",
   "name": "python3"
  },
  "language_info": {
   "codemirror_mode": {
    "name": "ipython",
    "version": 3
   },
   "file_extension": ".py",
   "mimetype": "text/x-python",
   "name": "python",
   "nbconvert_exporter": "python",
   "pygments_lexer": "ipython3",
   "version": "3.11.7"
  }
 },
 "nbformat": 4,
 "nbformat_minor": 5
}
